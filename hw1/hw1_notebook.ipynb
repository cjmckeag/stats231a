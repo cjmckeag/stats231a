{
 "cells": [
  {
   "cell_type": "markdown",
   "metadata": {},
   "source": [
    "# STATS 231A Homework 1 - Candace McKeag"
   ]
  },
  {
   "cell_type": "markdown",
   "metadata": {},
   "source": [
    "Original code credit goes to @iamtrask and @SkalskiP:\n",
    "* https://iamtrask.github.io/2015/07/12/basic-python-network/\n",
    "* https://github.com/SkalskiP/ILearnDeepLearning.py/blob/master/01_mysteries_of_neural_networks/03_numpy_neural_net/Numpy%20deep%20neural%20network.ipynb"
   ]
  },
  {
   "cell_type": "markdown",
   "metadata": {},
   "source": [
    "# Env Setup"
   ]
  },
  {
   "cell_type": "code",
   "execution_count": 1,
   "metadata": {},
   "outputs": [],
   "source": [
    "import numpy as np\n",
    "import matplotlib.pyplot as plt\n",
    "# for problem 2\n",
    "from sklearn.datasets import make_moons\n",
    "from sklearn.datasets import make_classification\n",
    "from sklearn.model_selection import train_test_split"
   ]
  },
  {
   "cell_type": "markdown",
   "metadata": {},
   "source": [
    "# Problem 1"
   ]
  },
  {
   "cell_type": "markdown",
   "metadata": {},
   "source": [
    "*Read the blog and play with the code with one hidden layer: https://iamtrask.github.io/2015/07/12/basic-python-network/.*"
   ]
  },
  {
   "cell_type": "markdown",
   "metadata": {},
   "source": [
    "## TwoLayerNet Class"
   ]
  },
  {
   "cell_type": "code",
   "execution_count": 2,
   "metadata": {},
   "outputs": [],
   "source": [
    "class TwoLayerNet(object):\n",
    "    \"\"\"\n",
    "    A class to build a two layer neural network (one input layer, one hidden layer).\n",
    "    ...\n",
    "\n",
    "    Attributes\n",
    "    ----------\n",
    "    X : np.ndarray\n",
    "        input dataset matrix where each row is a training example\n",
    "    y : np.ndarray\n",
    "        Output dataset matrix where each row is a training example\n",
    "    activation_function : str\n",
    "        activation_function function to use for hidden layer; takes 'sigmoid' or 'relu'\n",
    "    learning_rate : float\n",
    "        learning rate of weights to use for gradient descent\n",
    "\n",
    "    Methods\n",
    "    -------\n",
    "    hidden_layer(activation_function, x, derivative=False):\n",
    "        Provides either the sigmoid function or ReLU function to use in hidden layer.\n",
    "    train():\n",
    "        Performs forward propagation and gradient descent to learn weights and build the net.\n",
    "    \"\"\"\n",
    "\n",
    "    def __init__(self, X, y, activation_function=\"sigmoid\", learning_rate=1.0):\n",
    "        \"\"\"\n",
    "        Constructs all the necessary attributes for the TwoLayerNet object.\n",
    "\n",
    "        Parameters\n",
    "        ----------\n",
    "            X : np.ndarray\n",
    "                input dataset matrix where each row is a training example\n",
    "            y : np.ndarray\n",
    "                Output dataset matrix where each row is a training example\n",
    "            activation_function : str\n",
    "                activation_function function to use for hidden layer, default sigmoid\n",
    "            learning_rate : float\n",
    "                learning rate of weights to use for gradient descent, default 1\n",
    "        \"\"\"\n",
    "        self.X = X\n",
    "        self.y = y\n",
    "        self.activation_function = activation_function\n",
    "        self.learning_rate = learning_rate\n",
    "\n",
    "    @staticmethod\n",
    "    def hidden_layer(activation_function, x, derivative=False):\n",
    "        \"\"\"\n",
    "        Provides either the sigmoid function or ReLU function to use in hidden layer.\n",
    "\n",
    "        Parameters\n",
    "        ----------\n",
    "        activation_function : str\n",
    "            specifies function\n",
    "        x : np.ndarray\n",
    "            inner product vector to apply function on\n",
    "        derivative : bool\n",
    "            whether to use derivative of function, default False\n",
    "\n",
    "        Returns\n",
    "        -------\n",
    "        function output, dependent on parameters\n",
    "        \"\"\"\n",
    "        if activation_function == \"sigmoid\":\n",
    "            if derivative:\n",
    "                return x * (1 - x)\n",
    "            else:\n",
    "                return 1 / (1 + np.exp(-x))\n",
    "        elif activation_function == \"relu\":\n",
    "            if derivative:\n",
    "                return np.where(x > 0, 1, 0)\n",
    "            else:\n",
    "                return np.where(x > 0, x, 0)\n",
    "\n",
    "    def train(self):\n",
    "        \"\"\"\n",
    "        Performs backpropagation and gradient descent to learn weights and build the network\n",
    "\n",
    "        Returns\n",
    "        -------\n",
    "        mae : float\n",
    "            mean absolute error of final predictions\n",
    "        \"\"\"\n",
    "        # seed random numbers to make calculation deterministic\n",
    "        np.random.seed(1)\n",
    "        # initialize weights randomly with mean 0\n",
    "        p = self.X.shape[1]\n",
    "        beta = 2 * np.random.random((p, 1)) - 1\n",
    "        #beta = np.repeat(0.0,p).reshape(p,1)\n",
    "\n",
    "        for i in range(10000):\n",
    "            # forward propagation\n",
    "            layer_1 = self.X\n",
    "            layer_2 = self.hidden_layer(activation_function=self.activation_function,\n",
    "                                        x=np.dot(layer_1, beta),\n",
    "                                        derivative=False)\n",
    "\n",
    "            # how much did we miss?\n",
    "            layer_2_error = self.y - layer_2\n",
    "\n",
    "            # multiply how much we missed by the\n",
    "            # slope of the activation function at the values in layer_2\n",
    "            layer_2_delta = layer_2_error * self.hidden_layer(activation_function=self.activation_function,\n",
    "                                                              x=layer_2,\n",
    "                                                              derivative=True)\n",
    "\n",
    "            # update weights\n",
    "            beta += self.learning_rate * np.dot(layer_1.T, layer_2_delta)\n",
    "\n",
    "        mae = np.mean(np.abs(layer_2_error))\n",
    "        print(\"Error:\" + str(mae))\n",
    "        return mae"
   ]
  },
  {
   "cell_type": "markdown",
   "metadata": {},
   "source": [
    "## Implementation"
   ]
  },
  {
   "cell_type": "code",
   "execution_count": 3,
   "metadata": {},
   "outputs": [],
   "source": [
    "# input variables\n",
    "X_1 = np.array([[0,0,1],\n",
    "              [0,1,1],\n",
    "              [1,0,1],\n",
    "              [1,1,1]])\n",
    "    \n",
    "# output variable\n",
    "y_1 = np.array([[0,0,1,1]]).T"
   ]
  },
  {
   "cell_type": "code",
   "execution_count": 4,
   "metadata": {},
   "outputs": [
    {
     "name": "stdout",
     "output_type": "stream",
     "text": [
      "Error:0.007955249410716037\n"
     ]
    }
   ],
   "source": [
    "net_1 = TwoLayerNet(X_1, y_1, activation_function=\"sigmoid\", learning_rate=1)\n",
    "_ = net_1.train()"
   ]
  },
  {
   "cell_type": "markdown",
   "metadata": {},
   "source": [
    "## (1) Change the training set"
   ]
  },
  {
   "cell_type": "markdown",
   "metadata": {},
   "source": [
    "*Change the training dataset so that it has more training examples and more input variables.*"
   ]
  },
  {
   "cell_type": "markdown",
   "metadata": {},
   "source": [
    "The following example consists of 1,000 training examples and 20 input variables. The input data is simulated from a standard normal distribution. We use the input data, defined beta coefficients, and random noise to generate the raw y values. These raw values are then transformed with indicator function \n",
    "    $$I(y > 0) = \\begin{cases} \n",
    "          1, & y > 0 \\\\\n",
    "          0, & y \\leq 0\n",
    "       \\end{cases}$$\n",
    "to obtain a binary response vector."
   ]
  },
  {
   "cell_type": "code",
   "execution_count": 5,
   "metadata": {},
   "outputs": [],
   "source": [
    "# standard normal input matrix, 1000 x 20\n",
    "X_1_1 = np.random.normal(0, 1, (1000, 20))\n",
    "# beta coefficients\n",
    "beta = np.arange(1,21)\n",
    "    \n",
    "# dot product of X and Betas + random noise\n",
    "raw = (np.dot(X_1_1, beta) + np.random.normal(0, 1, 1000))\n",
    "# application of indicator function\n",
    "y_1_1 = np.where(raw <= 0, 0, 1).reshape(1000,1)"
   ]
  },
  {
   "cell_type": "code",
   "execution_count": 6,
   "metadata": {},
   "outputs": [
    {
     "name": "stdout",
     "output_type": "stream",
     "text": [
      "Error:0.0019675487778409565\n"
     ]
    }
   ],
   "source": [
    "net_1_1 = TwoLayerNet(X_1_1, y_1_1, activation_function=\"sigmoid\", learning_rate=1)\n",
    "_ = net_1_1.train()"
   ]
  },
  {
   "cell_type": "markdown",
   "metadata": {},
   "source": [
    "## (2) Change the hidden layer"
   ]
  },
  {
   "cell_type": "markdown",
   "metadata": {},
   "source": [
    "*Change the non-linearity of the hidden layer to ReLU.*"
   ]
  },
  {
   "cell_type": "markdown",
   "metadata": {},
   "source": [
    "Using the `activation_function` attribute of the implementation of the given code into the class object above, the nonlinear function of the hidden layer can easily be changed from the sigmoid function to ReLU. Also, the larger dataset from the previous section is used. We use a smaller learning rate of $10^{-4}$ to help the weights converge."
   ]
  },
  {
   "cell_type": "code",
   "execution_count": 7,
   "metadata": {},
   "outputs": [
    {
     "name": "stdout",
     "output_type": "stream",
     "text": [
      "Error:0.26377691804982756\n"
     ]
    }
   ],
   "source": [
    "net_1_2 = TwoLayerNet(X_1_1, y_1_1, activation_function=\"relu\", learning_rate=10e-4)\n",
    "_ = net_1_2.train()"
   ]
  },
  {
   "cell_type": "markdown",
   "metadata": {},
   "source": [
    "## (3) Change the learning rate"
   ]
  },
  {
   "cell_type": "markdown",
   "metadata": {},
   "source": [
    "*Change the learning rate of gradient descent.*"
   ]
  },
  {
   "cell_type": "markdown",
   "metadata": {},
   "source": [
    "Let's explore different learning rates and how they affect the mean absolute error of the predictions. We use a logarithmic range of learning rates from $10^{-7}$ to 1, totaling eight different networks. We see that the network with a learning rate of $10^{-7}$ has the highest mean absolute error, and the network with the lowest mean absolute error is actually that with a learning rate of 1. The networks in between have steadlily decreasing MAEs."
   ]
  },
  {
   "cell_type": "code",
   "execution_count": 8,
   "metadata": {},
   "outputs": [
    {
     "name": "stdout",
     "output_type": "stream",
     "text": [
      "Error:0.5827887607205507\n",
      "Error:0.5184928687783615\n",
      "Error:0.19389817420163064\n",
      "Error:0.08688656546968225\n",
      "Error:0.03926773783586701\n",
      "Error:0.017437117246612798\n",
      "Error:0.007010355366255774\n",
      "Error:0.0019675487778409565\n"
     ]
    }
   ],
   "source": [
    "learning_rates = [10**-exp for exp in range(7,-1,-1)]\n",
    "\n",
    "errors = []\n",
    "for lr in learning_rates:\n",
    "    net_1_3 = TwoLayerNet(X_1_1, y_1_1, activation_function=\"sigmoid\", learning_rate=lr)\n",
    "    error = net_1_3.train()\n",
    "    errors.append(error)"
   ]
  },
  {
   "cell_type": "code",
   "execution_count": 9,
   "metadata": {},
   "outputs": [
    {
     "data": {
      "image/png": "[encoded data removed]",
      "text/plain": [
       "<Figure size 576x360 with 1 Axes>"
      ]
     },
     "metadata": {
      "needs_background": "light"
     },
     "output_type": "display_data"
    }
   ],
   "source": [
    "plt.figure(figsize=(8,5))\n",
    "plt.plot(learning_rates, errors)\n",
    "plt.xscale('log')\n",
    "plt.xlabel('Learning Rate')\n",
    "plt.ylabel('Mean Absolute Error')\n",
    "plt.title('Mean Absolute Error Across Learning Rates')\n",
    "plt.show()"
   ]
  },
  {
   "cell_type": "markdown",
   "metadata": {},
   "source": [
    "## Brief memo"
   ]
  },
  {
   "cell_type": "markdown",
   "metadata": {},
   "source": [
    "*Write a brief memo on your work so that after one year, you can still recall what this assignment is about. Describe the underlying theory, method, code, and what you have done and discovered.*"
   ]
  },
  {
   "cell_type": "markdown",
   "metadata": {},
   "source": [
    "This first problem was a really good introduction to a very simple neural network. It helped me to understand the very core ideas behind neural networks, such as forward propagation and backpropagation. Even though the nets built with this code are small and simple, they are still able to achieve very low error rates with their predictions. The best net from this problem was that built on a larger dataset with a learning rate of 1 and using the sigmoid activation function."
   ]
  },
  {
   "cell_type": "markdown",
   "metadata": {},
   "source": [
    "# Problem 2"
   ]
  },
  {
   "cell_type": "markdown",
   "metadata": {},
   "source": [
    "*Read the blog and play with the code: https://github.com/SkalskiP/ILearnDeepLearning.py/blob/master/01_mysteries_of_neural_networks/03_numpy_neural_net/Numpy%20deep%20neural%20network.ipynb.*"
   ]
  },
  {
   "cell_type": "markdown",
   "metadata": {},
   "source": [
    "## MultiLayerNet Class"
   ]
  },
  {
   "cell_type": "code",
   "execution_count": 10,
   "metadata": {},
   "outputs": [],
   "source": [
    "class MultiLayerNet(object):\n",
    "    \"\"\"\n",
    "    A class to build a multilayer neural network.\n",
    "    ...\n",
    "\n",
    "    Attributes\n",
    "    ----------\n",
    "    nn_architecture : list\n",
    "        describes the architecture of the desired network. list of dictionaries, each of the format\n",
    "        {'input_dim': n, 'output_dim': m, 'activation': \"sigmoid\" or \"relu\"}.\n",
    "    seed : int\n",
    "        initialize random seed for deterministic output, default is 99.\n",
    "\n",
    "    Methods\n",
    "    -------\n",
    "    sigmoid(Z):\n",
    "        Provides the sigmoid function to use in hidden layer.\n",
    "    relu(Z):\n",
    "        Provides the ReLU function to use in hidden layer.\n",
    "    sigmoid_backward(dA, Z):\n",
    "        Provides the gradient of the sigmoid function.\n",
    "    relu_backward(dA, Z):\n",
    "        Provides the gradient of the ReLU function.\n",
    "    get_cost_value(Y_hat, Y):\n",
    "        Computes cost of predictions for true y-values.\n",
    "    convert_prob_into_class(probs):\n",
    "        Converts values in probs > 0.5 to 1, <= 0.5 to 0.\n",
    "    init_layers():\n",
    "        Uses nn_architecture attribute to initialize network layers and weights, and store parameters.\n",
    "    single_layer_forward_propagation(A_prev, W_curr, b_curr, activation=\"relu\"):\n",
    "        Performs forward propagation for one layer.\n",
    "    full_forward_propagation(X, params_values):\n",
    "        Performs the full forward propagation step, returning predictions.\n",
    "    single_layer_backward_propagation(dA_curr, W_curr, b_curr, Z_curr, A_prev, activation=\"relu\"):\n",
    "        Performs backward propagation for one layer.\n",
    "    full_backward_propagation(Y_hat, Y, memory, params_values):\n",
    "        Performs the full backward propagation step, returning gradient values.\n",
    "    get_accuracy_value(Y_hat, Y):\n",
    "        Uses convert_prob_into_class to compute accuracy of predictions for true y-values.\n",
    "    update(params_values, grads_values, learning_rate):\n",
    "        Updates the weights of the hidden layers.\n",
    "    train(X, Y, epochs, learning_rate, verbose=False, callback=None):\n",
    "        Culminates entire network building; initializes neural net parameters, iterates by performing\n",
    "        step forward, calculating metrics, performing step backward, and updating model state.\n",
    "    \"\"\"\n",
    "    def __init__(self, nn_architecture, seed=99):\n",
    "        \"\"\"\n",
    "        Constructs all the necessary attributes for the TwoLayerNet object.\n",
    "\n",
    "        Parameters\n",
    "        ----------\n",
    "        nn_architecture : list\n",
    "            describes the architecture of the desired network. list of dictionaries, each of the format\n",
    "            {'input_dim': n, 'output_dim': m, 'activation': \"sigmoid\" or \"relu\"}.\n",
    "        seed : int\n",
    "            initialize random seed for deterministic output, default is 99.\n",
    "        \"\"\"\n",
    "        self.nn_architecture = nn_architecture\n",
    "        self.seed = seed\n",
    "\n",
    "    def __call__(self, X, y, test_size, learning_rate=0.01, verbose=True):\n",
    "        # train test split on data\n",
    "        X_train, X_test, y_train, y_test = train_test_split(X, y, test_size=test_size, random_state=42)\n",
    "\n",
    "        # Training\n",
    "        params_values = self.train(np.transpose(X_train),\n",
    "                                   np.transpose(y_train.reshape((y_train.shape[0], 1))),\n",
    "                                   epochs=10000,\n",
    "                                   learning_rate=learning_rate,\n",
    "                                   verbose=verbose)\n",
    "\n",
    "        # Prediction\n",
    "        Y_test_hat, _ = self.full_forward_propagation(np.transpose(X_test), params_values)\n",
    "\n",
    "        # Accuracy achieved on the test set\n",
    "        acc_test = self.get_accuracy_value(Y_test_hat, np.transpose(y_test.reshape((y_test.shape[0], 1))))\n",
    "\n",
    "        print(\"Test set accuracy: {:.2f}\".format(acc_test))\n",
    "        return(acc_test)\n",
    "\n",
    "    @staticmethod\n",
    "    def sigmoid(Z):\n",
    "        return 1 / (1 + np.exp(-Z))\n",
    "\n",
    "    @staticmethod\n",
    "    def relu(Z):\n",
    "        return np.maximum(0, Z)\n",
    "\n",
    "    @staticmethod\n",
    "    def sigmoid_backward(dA, Z):\n",
    "        sig = 1 / (1 + np.exp(-Z))\n",
    "        return dA * sig * (1 - sig)\n",
    "\n",
    "    @staticmethod\n",
    "    def relu_backward(dA, Z):\n",
    "        dZ = np.array(dA, copy=True)\n",
    "        dZ[Z <= 0] = 0\n",
    "        return dZ\n",
    "\n",
    "    @staticmethod\n",
    "    def get_cost_value(Y_hat, Y):\n",
    "        # number of examples\n",
    "        m = Y_hat.shape[1]\n",
    "        # calculation of the cost according to the formula\n",
    "        cost = -1 / m * (np.dot(Y, np.log(Y_hat).T) + np.dot(1 - Y, np.log(1 - Y_hat).T))\n",
    "        return np.squeeze(cost)\n",
    "\n",
    "    # an auxiliary function that converts probability into class\n",
    "    @staticmethod\n",
    "    def convert_prob_into_class(probs):\n",
    "        probs_ = np.copy(probs)\n",
    "        probs_[probs_ > 0.5] = 1\n",
    "        probs_[probs_ <= 0.5] = 0\n",
    "        return probs_\n",
    "\n",
    "    def init_layers(self):\n",
    "        # random seed initiation\n",
    "        np.random.seed(self.seed)\n",
    "        # parameters storage initiation\n",
    "        params_values = {}\n",
    "\n",
    "        # iteration over network layers\n",
    "        for idx, layer in enumerate(self.nn_architecture):\n",
    "            # we number network layers from 1\n",
    "            layer_idx = idx + 1\n",
    "\n",
    "            # extracting the number of units in layers\n",
    "            layer_input_size = layer[\"input_dim\"]\n",
    "            layer_output_size = layer[\"output_dim\"]\n",
    "\n",
    "            # initiating the values of the W matrix\n",
    "            # and vector b for subsequent layers\n",
    "            params_values['W' + str(layer_idx)] = np.random.randn(\n",
    "                layer_output_size, layer_input_size) * 0.1\n",
    "            params_values['b' + str(layer_idx)] = np.random.randn(\n",
    "                layer_output_size, 1) * 0.1\n",
    "\n",
    "        return params_values\n",
    "\n",
    "    def single_layer_forward_propagation(self, A_prev, W_curr, b_curr, activation=\"relu\"):\n",
    "        # calculation of the input value for the activation function\n",
    "        Z_curr = np.dot(W_curr, A_prev) + b_curr\n",
    "\n",
    "        # selection of activation function\n",
    "        if activation is \"relu\":\n",
    "            activation_func = self.relu\n",
    "        elif activation is \"sigmoid\":\n",
    "            activation_func = self.sigmoid\n",
    "        else:\n",
    "            raise Exception('Non-supported activation function')\n",
    "\n",
    "        # return of calculated activation A and the intermediate Z matrix\n",
    "        return activation_func(Z_curr), Z_curr\n",
    "\n",
    "    def full_forward_propagation(self, X, params_values):\n",
    "        # creating a temporary memory to store the information needed for a backward step\n",
    "        memory = {}\n",
    "        # X vector is the activation for layer 0 \n",
    "        A_curr = X\n",
    "\n",
    "        # iteration over network layers\n",
    "        for idx, layer in enumerate(self.nn_architecture):\n",
    "            # we number network layers from 1\n",
    "            layer_idx = idx + 1\n",
    "            # transfer the activation from the previous iteration\n",
    "            A_prev = A_curr\n",
    "\n",
    "            # extraction of the activation function for the current layer\n",
    "            activ_function_curr = layer[\"activation\"]\n",
    "            # extraction of W for the current layer\n",
    "            W_curr = params_values[\"W\" + str(layer_idx)]\n",
    "            # extraction of b for the current layer\n",
    "            b_curr = params_values[\"b\" + str(layer_idx)]\n",
    "            # calculation of activation for the current layer\n",
    "            A_curr, Z_curr = self.single_layer_forward_propagation(A_prev, W_curr, b_curr, activ_function_curr)\n",
    "\n",
    "            # saving calculated values in the memory\n",
    "            memory[\"A\" + str(idx)] = A_prev\n",
    "            memory[\"Z\" + str(layer_idx)] = Z_curr\n",
    "\n",
    "        # return of prediction vector and a dictionary containing intermediate values\n",
    "        return A_curr, memory\n",
    "\n",
    "    def single_layer_backward_propagation(self, dA_curr, W_curr, b_curr, Z_curr, A_prev, activation=\"relu\"):\n",
    "        # number of examples\n",
    "        m = A_prev.shape[1]\n",
    "\n",
    "        # selection of activation function\n",
    "        if activation is \"relu\":\n",
    "            backward_activation_func = self.relu_backward\n",
    "        elif activation is \"sigmoid\":\n",
    "            backward_activation_func = self.sigmoid_backward\n",
    "        else:\n",
    "            raise Exception('Non-supported activation function')\n",
    "\n",
    "        # calculation of the activation function derivative\n",
    "        dZ_curr = backward_activation_func(dA_curr, Z_curr)\n",
    "\n",
    "        # derivative of the matrix W\n",
    "        dW_curr = np.dot(dZ_curr, A_prev.T) / m\n",
    "        # derivative of the vector b\n",
    "        db_curr = np.sum(dZ_curr, axis=1, keepdims=True) / m\n",
    "        # derivative of the matrix A_prev\n",
    "        dA_prev = np.dot(W_curr.T, dZ_curr)\n",
    "\n",
    "        return dA_prev, dW_curr, db_curr\n",
    "\n",
    "    def full_backward_propagation(self, Y_hat, Y, memory, params_values):\n",
    "        grads_values = {}\n",
    "\n",
    "        # a hack ensuring the same shape of the prediction vector and labels vector\n",
    "        Y = Y.reshape(Y_hat.shape)\n",
    "\n",
    "        # initiation of gradient descent algorithm\n",
    "        dA_prev = - (np.divide(Y, Y_hat) - np.divide(1 - Y, 1 - Y_hat))\n",
    "\n",
    "        for layer_idx_prev, layer in reversed(list(enumerate(self.nn_architecture))):\n",
    "            # we number network layers from 1\n",
    "            layer_idx_curr = layer_idx_prev + 1\n",
    "            # extraction of the activation function for the current layer\n",
    "            activ_function_curr = layer[\"activation\"]\n",
    "\n",
    "            dA_curr = dA_prev\n",
    "\n",
    "            A_prev = memory[\"A\" + str(layer_idx_prev)]\n",
    "            Z_curr = memory[\"Z\" + str(layer_idx_curr)]\n",
    "\n",
    "            W_curr = params_values[\"W\" + str(layer_idx_curr)]\n",
    "            b_curr = params_values[\"b\" + str(layer_idx_curr)]\n",
    "\n",
    "            dA_prev, dW_curr, db_curr = self.single_layer_backward_propagation(\n",
    "                dA_curr, W_curr, b_curr, Z_curr, A_prev, activ_function_curr)\n",
    "\n",
    "            grads_values[\"dW\" + str(layer_idx_curr)] = dW_curr\n",
    "            grads_values[\"db\" + str(layer_idx_curr)] = db_curr\n",
    "\n",
    "        return grads_values\n",
    "\n",
    "    def get_accuracy_value(self, Y_hat, Y):\n",
    "        Y_hat_ = self.convert_prob_into_class(Y_hat)\n",
    "        return (Y_hat_ == Y).all(axis=0).mean()\n",
    "\n",
    "    def update(self, params_values, grads_values, learning_rate):\n",
    "        # iteration over network layers\n",
    "        for layer_idx, layer in enumerate(self.nn_architecture, 1):\n",
    "            params_values[\"W\" + str(layer_idx)] -= learning_rate * grads_values[\"dW\" + str(layer_idx)]\n",
    "            params_values[\"b\" + str(layer_idx)] -= learning_rate * grads_values[\"db\" + str(layer_idx)]\n",
    "        return params_values\n",
    "\n",
    "    def train(self, X, Y, epochs, learning_rate, verbose=False, callback=None):\n",
    "        # initiation of neural net parameters\n",
    "        params_values = self.init_layers()\n",
    "        # initiation of lists storing the history\n",
    "        # of metrics calculated during the learning process\n",
    "        cost_history = []\n",
    "        accuracy_history = []\n",
    "\n",
    "        # performing calculations for subsequent iterations\n",
    "        for i in range(epochs):\n",
    "            # step forward\n",
    "            Y_hat, cache = self.full_forward_propagation(X, params_values)\n",
    "\n",
    "            # calculating metrics and saving them in history\n",
    "            cost = self.get_cost_value(Y_hat, Y)\n",
    "            cost_history.append(cost)\n",
    "            accuracy = self.get_accuracy_value(Y_hat, Y)\n",
    "            accuracy_history.append(accuracy)\n",
    "\n",
    "            # step backward - calculating gradient\n",
    "            grads_values = self.full_backward_propagation(Y_hat, Y, cache, params_values)\n",
    "            # updating model state\n",
    "            params_values = self.update(params_values, grads_values, learning_rate)\n",
    "\n",
    "            if i % (epochs//10) == 0:\n",
    "                if verbose:\n",
    "                    print(\"Iteration: {:05} - cost: {:.5f} - accuracy: {:.5f}\".format(i, cost, accuracy))\n",
    "                if callback is not None:\n",
    "                    callback(i, params_values)\n",
    "\n",
    "        return params_values"
   ]
  },
  {
   "cell_type": "markdown",
   "metadata": {},
   "source": [
    "## Implementation"
   ]
  },
  {
   "cell_type": "markdown",
   "metadata": {},
   "source": [
    "The original code implements a neural network with 5 hidden layers. The maximum number of nodes in a layer is 50, and 4 out of these 5 layers use the ReLU activation function. \n",
    "\n",
    "This net achieves a test set accuracy of 97% and is able to minimize the cost to 0.077."
   ]
  },
  {
   "cell_type": "code",
   "execution_count": 11,
   "metadata": {},
   "outputs": [],
   "source": [
    "# layer architecture\n",
    "architecture = [\n",
    "    {\"input_dim\": 2, \"output_dim\": 25, \"activation\": \"relu\"},\n",
    "    {\"input_dim\": 25, \"output_dim\": 50, \"activation\": \"relu\"},\n",
    "    {\"input_dim\": 50, \"output_dim\": 50, \"activation\": \"relu\"},\n",
    "    {\"input_dim\": 50, \"output_dim\": 25, \"activation\": \"relu\"},\n",
    "    {\"input_dim\": 25, \"output_dim\": 1, \"activation\": \"sigmoid\"}\n",
    "]\n",
    "\n",
    "# number of samples in the data set\n",
    "n_samples = 1000\n",
    "# ratio between training and test sets\n",
    "test_size = 0.1\n",
    "\n",
    "X_2, y_2 = make_moons(n_samples=n_samples, noise=0.2, random_state=100)"
   ]
  },
  {
   "cell_type": "code",
   "execution_count": 12,
   "metadata": {},
   "outputs": [
    {
     "name": "stdout",
     "output_type": "stream",
     "text": [
      "Iteration: 00000 - cost: 0.69398 - accuracy: 0.50444\n",
      "Iteration: 01000 - cost: 0.68732 - accuracy: 0.64333\n",
      "Iteration: 02000 - cost: 0.58974 - accuracy: 0.82111\n",
      "Iteration: 03000 - cost: 0.27629 - accuracy: 0.87889\n",
      "Iteration: 04000 - cost: 0.24330 - accuracy: 0.88889\n",
      "Iteration: 05000 - cost: 0.17292 - accuracy: 0.93333\n",
      "Iteration: 06000 - cost: 0.10345 - accuracy: 0.96333\n",
      "Iteration: 07000 - cost: 0.08769 - accuracy: 0.96556\n",
      "Iteration: 08000 - cost: 0.08052 - accuracy: 0.97000\n",
      "Iteration: 09000 - cost: 0.07749 - accuracy: 0.97111\n",
      "Test set accuracy: 0.97\n"
     ]
    }
   ],
   "source": [
    "net_2 = MultiLayerNet(architecture)\n",
    "_ = net_2(X_2, y_2, test_size)"
   ]
  },
  {
   "cell_type": "markdown",
   "metadata": {},
   "source": [
    "## (1) Change the hidden layers"
   ]
  },
  {
   "cell_type": "markdown",
   "metadata": {},
   "source": [
    "*Change the number of layers and the numbers of nodes in the hidden layers.*"
   ]
  },
  {
   "cell_type": "markdown",
   "metadata": {},
   "source": [
    "### (a) Reduce the number of layers and nodes"
   ]
  },
  {
   "cell_type": "markdown",
   "metadata": {},
   "source": [
    "For this first part of section 1, the number of layers and nodes in the network are reduced. We remove two hidden layers that use the ReLU activation function and decrease the maximum number of nodes to 30. \n",
    "\n",
    "The resulting net is still able to achieve a high test set accuracy of 92%, while minimizing the cost to 0.1831."
   ]
  },
  {
   "cell_type": "code",
   "execution_count": 13,
   "metadata": {},
   "outputs": [],
   "source": [
    "architecture_1a = [\n",
    "    {\"input_dim\": 2, \"output_dim\": 30, \"activation\": \"relu\"},\n",
    "    {\"input_dim\": 30, \"output_dim\": 20, \"activation\": \"relu\"},\n",
    "    {\"input_dim\": 20, \"output_dim\": 1, \"activation\": \"sigmoid\"}\n",
    "]"
   ]
  },
  {
   "cell_type": "code",
   "execution_count": 14,
   "metadata": {},
   "outputs": [
    {
     "name": "stdout",
     "output_type": "stream",
     "text": [
      "Iteration: 00000 - cost: 0.69629 - accuracy: 0.50444\n",
      "Iteration: 01000 - cost: 0.49332 - accuracy: 0.81000\n",
      "Iteration: 02000 - cost: 0.28754 - accuracy: 0.87444\n",
      "Iteration: 03000 - cost: 0.27177 - accuracy: 0.88000\n",
      "Iteration: 04000 - cost: 0.26589 - accuracy: 0.88333\n",
      "Iteration: 05000 - cost: 0.25807 - accuracy: 0.88333\n",
      "Iteration: 06000 - cost: 0.24677 - accuracy: 0.88667\n",
      "Iteration: 07000 - cost: 0.23153 - accuracy: 0.89333\n",
      "Iteration: 08000 - cost: 0.21037 - accuracy: 0.91111\n",
      "Iteration: 09000 - cost: 0.18305 - accuracy: 0.92444\n",
      "Test set accuracy: 0.92\n"
     ]
    }
   ],
   "source": [
    "net_2_1a = MultiLayerNet(architecture_1a)\n",
    "_ = net_2_1a(X_2, y_2, test_size)"
   ]
  },
  {
   "cell_type": "markdown",
   "metadata": {},
   "source": [
    "### (b) Increase the number of layers and nodes"
   ]
  },
  {
   "cell_type": "markdown",
   "metadata": {},
   "source": [
    "In this second part of section 1, we add more hidden layers and more nodes. We add three hidden layers which use the ReLU activation function and increase the maximum number of nodes to 125. \n",
    "\n",
    "The resulting net achieves an astounding test set accuracy of 99% and the lowest cost of 0.0658."
   ]
  },
  {
   "cell_type": "code",
   "execution_count": 15,
   "metadata": {},
   "outputs": [],
   "source": [
    "architecture_1b = [\n",
    "    {\"input_dim\": 2, \"output_dim\": 25, \"activation\": \"relu\"},\n",
    "    {\"input_dim\": 25, \"output_dim\": 50, \"activation\": \"relu\"},\n",
    "    {\"input_dim\": 50, \"output_dim\": 100, \"activation\": \"relu\"},\n",
    "    {\"input_dim\": 100, \"output_dim\": 125, \"activation\": \"relu\"},\n",
    "    {\"input_dim\": 125, \"output_dim\": 100, \"activation\": \"relu\"},\n",
    "    {\"input_dim\": 100, \"output_dim\": 50, \"activation\": \"relu\"},\n",
    "    {\"input_dim\": 50, \"output_dim\": 25, \"activation\": \"relu\"},\n",
    "    {\"input_dim\": 25, \"output_dim\": 1, \"activation\": \"sigmoid\"}\n",
    "]"
   ]
  },
  {
   "cell_type": "code",
   "execution_count": 16,
   "metadata": {},
   "outputs": [
    {
     "name": "stdout",
     "output_type": "stream",
     "text": [
      "Iteration: 00000 - cost: 0.69370 - accuracy: 0.50444\n",
      "Iteration: 01000 - cost: 0.69192 - accuracy: 0.50444\n",
      "Iteration: 02000 - cost: 0.68824 - accuracy: 0.50444\n",
      "Iteration: 03000 - cost: 0.55289 - accuracy: 0.84111\n",
      "Iteration: 04000 - cost: 0.21433 - accuracy: 0.91111\n",
      "Iteration: 05000 - cost: 0.08284 - accuracy: 0.96778\n",
      "Iteration: 06000 - cost: 0.07277 - accuracy: 0.97000\n",
      "Iteration: 07000 - cost: 0.06970 - accuracy: 0.97111\n",
      "Iteration: 08000 - cost: 0.06716 - accuracy: 0.97000\n",
      "Iteration: 09000 - cost: 0.06579 - accuracy: 0.97000\n",
      "Test set accuracy: 0.99\n"
     ]
    }
   ],
   "source": [
    "net_2_1b = MultiLayerNet(architecture_1b)\n",
    "_ = net_2_1b(X_2, y_2, test_size)"
   ]
  },
  {
   "cell_type": "markdown",
   "metadata": {},
   "source": [
    "## (2) Change the training set"
   ]
  },
  {
   "cell_type": "markdown",
   "metadata": {},
   "source": [
    "*Change the number of training examples. Change the distributions of the positive and negative training examples.*"
   ]
  },
  {
   "cell_type": "markdown",
   "metadata": {},
   "source": [
    "### (a) Reduce the number of training examples"
   ]
  },
  {
   "cell_type": "markdown",
   "metadata": {},
   "source": [
    "We reduce the number of training examples from 1,000 to 100, and keep the rest of the original parameters. \n",
    "\n",
    "The resulting net achieves a test set accuracy of 85% and a cost of 0.0223."
   ]
  },
  {
   "cell_type": "code",
   "execution_count": 17,
   "metadata": {},
   "outputs": [],
   "source": [
    "# number of samples in the data set\n",
    "n_samples_2a = 100\n",
    "\n",
    "X_2_2a, y_2_2a = make_moons(n_samples=n_samples_2a, noise=0.2, random_state=100)"
   ]
  },
  {
   "cell_type": "code",
   "execution_count": 18,
   "metadata": {},
   "outputs": [
    {
     "name": "stdout",
     "output_type": "stream",
     "text": [
      "Iteration: 00000 - cost: 0.69437 - accuracy: 0.50000\n",
      "Iteration: 01000 - cost: 0.68875 - accuracy: 0.77778\n",
      "Iteration: 02000 - cost: 0.63951 - accuracy: 0.81111\n",
      "Iteration: 03000 - cost: 0.32280 - accuracy: 0.85556\n",
      "Iteration: 04000 - cost: 0.28503 - accuracy: 0.86667\n",
      "Iteration: 05000 - cost: 0.21368 - accuracy: 0.91111\n",
      "Iteration: 06000 - cost: 0.08168 - accuracy: 0.98889\n",
      "Iteration: 07000 - cost: 0.05308 - accuracy: 0.98889\n",
      "Iteration: 08000 - cost: 0.04511 - accuracy: 0.97778\n",
      "Iteration: 09000 - cost: 0.04054 - accuracy: 0.97778\n",
      "Test set accuracy: 0.90\n"
     ]
    }
   ],
   "source": [
    "net_2_2a = MultiLayerNet(architecture)\n",
    "_ = net_2_2a(X_2_2a, y_2_2a, test_size)"
   ]
  },
  {
   "cell_type": "markdown",
   "metadata": {},
   "source": [
    "### (b) Increase the number of training examples"
   ]
  },
  {
   "cell_type": "markdown",
   "metadata": {},
   "source": [
    "We increase the number of training examples from 1,000 to 10,000. The rest of the parameters remain the same as the original implementation. \n",
    "\n",
    "This net achieves a test set accuracy of 98% and a cost value of 0.0849."
   ]
  },
  {
   "cell_type": "code",
   "execution_count": 19,
   "metadata": {},
   "outputs": [],
   "source": [
    "# number of samples in the data set\n",
    "n_samples_2b = 10000\n",
    "\n",
    "X_2_2b, y_2_2b = make_moons(n_samples=n_samples_2b, noise=0.2, random_state=100)"
   ]
  },
  {
   "cell_type": "code",
   "execution_count": 20,
   "metadata": {},
   "outputs": [
    {
     "name": "stdout",
     "output_type": "stream",
     "text": [
      "Iteration: 00000 - cost: 0.69447 - accuracy: 0.49811\n",
      "Iteration: 01000 - cost: 0.68751 - accuracy: 0.79844\n",
      "Iteration: 02000 - cost: 0.59788 - accuracy: 0.81867\n",
      "Iteration: 03000 - cost: 0.29407 - accuracy: 0.87289\n",
      "Iteration: 04000 - cost: 0.26443 - accuracy: 0.88733\n",
      "Iteration: 05000 - cost: 0.20608 - accuracy: 0.91600\n",
      "Iteration: 06000 - cost: 0.11694 - accuracy: 0.95833\n",
      "Iteration: 07000 - cost: 0.09221 - accuracy: 0.96533\n",
      "Iteration: 08000 - cost: 0.08679 - accuracy: 0.96633\n",
      "Iteration: 09000 - cost: 0.08485 - accuracy: 0.96678\n",
      "Test set accuracy: 0.98\n"
     ]
    }
   ],
   "source": [
    "net_2_2b = MultiLayerNet(architecture)\n",
    "_ = net_2_2b(X_2_2b, y_2_2b, test_size)"
   ]
  },
  {
   "cell_type": "markdown",
   "metadata": {},
   "source": [
    "### (c) Change the distribution of training examples"
   ]
  },
  {
   "cell_type": "markdown",
   "metadata": {},
   "source": [
    "The original code uses a generated single-label classification dataset using `make_moons` from the scikit-learn datasets module. According to the scikit-learn user guide `make_moons` \"produces two interleaving half circles.\" To try training examples from a new distribution, we will use the `make_classification` function, which \"creates clusters of points normally distributed (std=1) about vertices of a [2]-dimensional hypercube with sides of length [2] and assigns an equal number of clusters to each class.\" Using the default settings, we generate a dataset with 20 features, of which 2 are informative; the layer architecture is changed accordingly to accept this increased input dimension.\n",
    "\n",
    "The resulting net achieves a test set accuracy of 93% and quite a low cost value of 0.00137."
   ]
  },
  {
   "cell_type": "code",
   "execution_count": 21,
   "metadata": {},
   "outputs": [],
   "source": [
    "architecture_2c = [\n",
    "    {\"input_dim\": 20, \"output_dim\": 25, \"activation\": \"relu\"},\n",
    "    {\"input_dim\": 25, \"output_dim\": 50, \"activation\": \"relu\"},\n",
    "    {\"input_dim\": 50, \"output_dim\": 100, \"activation\": \"relu\"},\n",
    "    {\"input_dim\": 100, \"output_dim\": 125, \"activation\": \"relu\"},\n",
    "    {\"input_dim\": 125, \"output_dim\": 100, \"activation\": \"relu\"},\n",
    "    {\"input_dim\": 100, \"output_dim\": 50, \"activation\": \"relu\"},\n",
    "    {\"input_dim\": 50, \"output_dim\": 25, \"activation\": \"relu\"},\n",
    "    {\"input_dim\": 25, \"output_dim\": 1, \"activation\": \"sigmoid\"}\n",
    "]\n",
    "\n",
    "# number of samples in the data set\n",
    "X_2_2c, y_2_2c = make_classification(n_samples=n_samples, random_state=100)"
   ]
  },
  {
   "cell_type": "code",
   "execution_count": 22,
   "metadata": {},
   "outputs": [
    {
     "name": "stdout",
     "output_type": "stream",
     "text": [
      "Iteration: 00000 - cost: 0.69341 - accuracy: 0.50333\n",
      "Iteration: 01000 - cost: 0.68850 - accuracy: 0.73000\n",
      "Iteration: 02000 - cost: 0.37785 - accuracy: 0.90222\n",
      "Iteration: 03000 - cost: 0.14212 - accuracy: 0.94444\n",
      "Iteration: 04000 - cost: 0.06334 - accuracy: 0.99000\n",
      "Iteration: 05000 - cost: 0.03380 - accuracy: 0.99556\n",
      "Iteration: 06000 - cost: 0.01960 - accuracy: 0.99778\n",
      "Iteration: 07000 - cost: 0.01059 - accuracy: 0.99889\n",
      "Iteration: 08000 - cost: 0.00765 - accuracy: 0.99889\n",
      "Iteration: 09000 - cost: 0.00137 - accuracy: 1.00000\n",
      "Test set accuracy: 0.93\n"
     ]
    }
   ],
   "source": [
    "net_2_2c = MultiLayerNet(architecture_2c)\n",
    "_ = net_2_2c(X_2_2c, y_2_2c, test_size)"
   ]
  },
  {
   "cell_type": "markdown",
   "metadata": {},
   "source": [
    "## (3) Change the learning rate"
   ]
  },
  {
   "cell_type": "markdown",
   "metadata": {},
   "source": [
    "*Change the learning rate of gradient descent.*"
   ]
  },
  {
   "cell_type": "markdown",
   "metadata": {},
   "source": [
    "We experiment with different learning rates across a logarithmic range. This problem uses the original dataset."
   ]
  },
  {
   "cell_type": "code",
   "execution_count": 23,
   "metadata": {},
   "outputs": [
    {
     "name": "stdout",
     "output_type": "stream",
     "text": [
      "Test set accuracy: 0.46\n",
      "Test set accuracy: 0.46\n",
      "Test set accuracy: 0.46\n",
      "Test set accuracy: 0.46\n",
      "Test set accuracy: 0.56\n",
      "Test set accuracy: 0.97\n",
      "Test set accuracy: 0.99\n"
     ]
    }
   ],
   "source": [
    "learning_rates = [10**-exp for exp in range(7,0,-1)]\n",
    "\n",
    "test_accs = []\n",
    "for lr in learning_rates:\n",
    "    net_2_3 = MultiLayerNet(architecture)\n",
    "    test_accuracy = net_2_3(X_2, y_2, test_size, learning_rate=lr, verbose=False)\n",
    "    test_accs.append(test_accuracy)"
   ]
  },
  {
   "cell_type": "code",
   "execution_count": 24,
   "metadata": {},
   "outputs": [
    {
     "data": {
      "image/png": "[encoded data removed]",
      "text/plain": [
       "<Figure size 576x360 with 1 Axes>"
      ]
     },
     "metadata": {
      "needs_background": "light"
     },
     "output_type": "display_data"
    }
   ],
   "source": [
    "plt.figure(figsize=(8,5))\n",
    "plt.plot(learning_rates, test_accs)\n",
    "plt.xscale('log')\n",
    "plt.xlabel('Learning Rate')\n",
    "plt.ylabel('Test Set Accuracy')\n",
    "plt.title('Test Set Accuracy Across Learning Rates')\n",
    "plt.show()"
   ]
  },
  {
   "cell_type": "markdown",
   "metadata": {},
   "source": [
    "## (4) Explore over-parameterization"
   ]
  },
  {
   "cell_type": "markdown",
   "metadata": {},
   "source": [
    "*Explore the issue of testing error and over-parametrization.*"
   ]
  },
  {
   "cell_type": "markdown",
   "metadata": {},
   "source": [
    "In the context of this problem, we'll define \"testing error\" as `1 - test_accuracy`.\n",
    "\n",
    "Our results show that as we add many more nodes to the hidden layers and overparameterize our model, we overfit to the training data. This leads to increased testing error and decreased test set accuracy."
   ]
  },
  {
   "cell_type": "markdown",
   "metadata": {},
   "source": [
    "### (a) Generate data"
   ]
  },
  {
   "cell_type": "markdown",
   "metadata": {},
   "source": [
    "Let's use the `make_classification` function from the scikit-learn datasets module again to generate the testing and training data."
   ]
  },
  {
   "cell_type": "code",
   "execution_count": 32,
   "metadata": {},
   "outputs": [],
   "source": [
    "# data generation\n",
    "X_2_4, y_2_4 = make_classification(n_samples=n_samples, random_state=100)"
   ]
  },
  {
   "cell_type": "markdown",
   "metadata": {},
   "source": [
    "### (b) Explore number of nodes vs. testing error"
   ]
  },
  {
   "cell_type": "markdown",
   "metadata": {},
   "source": [
    "In order to experiment with a varying number of nodes, we'll incrementally add 10 nodes to each layer (except for the immediate input and output). We see that as we add more layers and increasingly overparameterize our model, the network overfits on the training data and makes more errors as it loses the ability to extrapolate to the testing data."
   ]
  },
  {
   "cell_type": "code",
   "execution_count": 35,
   "metadata": {},
   "outputs": [],
   "source": [
    "# layer architecture\n",
    "architecture_4 = [\n",
    "    {\"input_dim\": 20, \"output_dim\": 25, \"activation\": \"relu\"},\n",
    "    {\"input_dim\": 25, \"output_dim\": 50, \"activation\": \"relu\"},\n",
    "    {\"input_dim\": 50, \"output_dim\": 50, \"activation\": \"relu\"},\n",
    "    {\"input_dim\": 50, \"output_dim\": 25, \"activation\": \"relu\"},\n",
    "    {\"input_dim\": 25, \"output_dim\": 1, \"activation\": \"sigmoid\"}\n",
    "]"
   ]
  },
  {
   "cell_type": "code",
   "execution_count": 36,
   "metadata": {},
   "outputs": [
    {
     "name": "stdout",
     "output_type": "stream",
     "text": [
      "Test set accuracy: 0.93\n",
      "Test set accuracy: 0.90\n",
      "Test set accuracy: 0.91\n",
      "Test set accuracy: 0.90\n",
      "Test set accuracy: 0.91\n"
     ]
    }
   ],
   "source": [
    "test_errs = []\n",
    "# iterate 5 times\n",
    "for i in range(5):\n",
    "    # each iteration, add 10 nodes to each layer\n",
    "    # except first input and last output\n",
    "    itr = 0\n",
    "    if i > 0:\n",
    "        for layer in architecture_4:\n",
    "            if itr == 0:\n",
    "                layer['output_dim'] = layer['output_dim'] + 10\n",
    "            elif itr == 4:\n",
    "                layer['input_dim'] = layer['input_dim'] + 10\n",
    "            else:\n",
    "                layer['input_dim'] = layer['input_dim'] + 10\n",
    "                layer['output_dim'] = layer['output_dim'] + 10\n",
    "            itr += 1\n",
    "    # build network\n",
    "    net_2_4 = MultiLayerNet(architecture_4)\n",
    "    test_accuracy = net_2_4(X_2_4, y_2_4, test_size, verbose=False)\n",
    "    test_error = 1 - test_accuracy\n",
    "    test_errs.append(test_error)"
   ]
  },
  {
   "cell_type": "code",
   "execution_count": 38,
   "metadata": {},
   "outputs": [
    {
     "data": {
      "image/png": "[encoded data removed]",
      "text/plain": [
       "<Figure size 576x360 with 1 Axes>"
      ]
     },
     "metadata": {
      "needs_background": "light"
     },
     "output_type": "display_data"
    }
   ],
   "source": [
    "nodes_added = [i*10 for i in range(5)]\n",
    "\n",
    "plt.figure(figsize=(8,5))\n",
    "plt.plot(nodes_added, test_errs)\n",
    "plt.xlabel('Number of Nodes Added')\n",
    "plt.ylabel('Testing Error')\n",
    "plt.title('Testing Error Across Number of Hidden Layer Nodes')\n",
    "plt.show()"
   ]
  },
  {
   "cell_type": "markdown",
   "metadata": {},
   "source": [
    "## Brief memo"
   ]
  },
  {
   "cell_type": "markdown",
   "metadata": {},
   "source": [
    "*Write a brief memo on your work so that after one year, you can still recall what this assignment is about. Describe the underlying theory, method, code, and what you have done and discovered.*"
   ]
  },
  {
   "cell_type": "markdown",
   "metadata": {},
   "source": [
    "This second problem was a sensible next step after the first problem. Working through the code and adjusting different parameters helped me understand the nuances of each layer of a neural network, especially the interdependence between the number of hidden layer nodes and the testing error. The best net built in this problem was the net that kept the original number of hidden layer nodes, had a learning rate of 1, and used the original dataset generated with `make_moons`."
   ]
  }
 ],
 "metadata": {
  "kernelspec": {
   "display_name": "Python 3",
   "language": "python",
   "name": "python3"
  },
  "language_info": {
   "codemirror_mode": {
    "name": "ipython",
    "version": 3
   },
   "file_extension": ".py",
   "mimetype": "text/x-python",
   "name": "python",
   "nbconvert_exporter": "python",
   "pygments_lexer": "ipython3",
   "version": "3.7.1"
  }
 },
 "nbformat": 4,
 "nbformat_minor": 2
}
